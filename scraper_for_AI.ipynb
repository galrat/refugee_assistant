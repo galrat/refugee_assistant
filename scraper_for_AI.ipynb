{
  "nbformat": 4,
  "nbformat_minor": 0,
  "metadata": {
    "colab": {
      "provenance": [],
      "authorship_tag": "ABX9TyPpQ6F7esGVouQvpBAsyYXa",
      "include_colab_link": true
    },
    "kernelspec": {
      "name": "python3",
      "display_name": "Python 3"
    },
    "language_info": {
      "name": "python"
    }
  },
  "cells": [
    {
      "cell_type": "markdown",
      "metadata": {
        "id": "view-in-github",
        "colab_type": "text"
      },
      "source": [
        "<a href=\"https://colab.research.google.com/github/galrat/Neural_Networks_and_CV/blob/master/scraper_for_AI.ipynb\" target=\"_parent\"><img src=\"https://colab.research.google.com/assets/colab-badge.svg\" alt=\"Open In Colab\"/></a>"
      ]
    },
    {
      "cell_type": "code",
      "source": [
        "import requests\n",
        "from bs4 import BeautifulSoup\n",
        "import pandas as pd\n",
        "import numpy as np\n",
        "import re"
      ],
      "metadata": {
        "id": "QfSclf3WzJ2k"
      },
      "execution_count": 85,
      "outputs": []
    },
    {
      "cell_type": "markdown",
      "source": [
        "# https://refugies.info/"
      ],
      "metadata": {
        "id": "OJWHvsLCQmfw"
      }
    },
    {
      "cell_type": "code",
      "source": [
        "def get_data_from_soup(soup):\n",
        "  \"\"\"\n",
        "  the functions works with https://refugies.info/\n",
        "  it gets the following:\n",
        "   \"title\": \"Extracted page title\",\n",
        "  \"text\": \"Cleaned text for analysis (entire article or individual card texts)\",\n",
        "  \"cards\": \"Optional: List of objects if the page contains multiple cards, each with title and text\",\n",
        "  \"text_md\": \"Markdown-formatted text of the page\",\n",
        "  \"links\": \"List of extracted URLs\"\n",
        "  \"\"\"\n",
        "  main = soup.find(class_='Dispositif_main__LBeic') # get target information\n",
        "  title = main.find('h1').text # get title\n",
        "  text = main.get_text(separator=' ', strip=True) # get text\n",
        "\n",
        "  # get title\n",
        "  title = main.find('h1').text\n",
        "\n",
        "  # get all text\n",
        "  all_text = main.get_text(separator=' ', strip=True)\n",
        "  all_text\n",
        "\n",
        "  # get cards data\n",
        "  cards = main.find_all('section')\n",
        "  cards_data = []\n",
        "  for card in cards:\n",
        "    #print(section.text)\n",
        "    card_header = card.find('p').text\n",
        "    card_text = card.get_text(separator=' ', strip=True).replace(card_header, '')\n",
        "    cards_data.append([card_header, card_text])\n",
        "\n",
        "  # get urls on the page\n",
        "  a_tags = main.find_all('a')\n",
        "  urls = [a.get('href') for a in a_tags if a.get('href')]\n",
        "\n",
        "  output = {\n",
        "          'title': title,\n",
        "          'text': text,\n",
        "          'cards': cards_data,\n",
        "          'text_md': main,\n",
        "          'urls': urls\n",
        "          }\n",
        "  return output\n",
        "\n"
      ],
      "metadata": {
        "id": "dwKzPFPWvwxL"
      },
      "execution_count": 80,
      "outputs": []
    },
    {
      "cell_type": "code",
      "source": [
        "test_url = 'https://refugies.info/en/procedure/62503d59664c115fa5121c6a'\n",
        "\n",
        "content = requests.get(test_url)\n",
        "soup = BeautifulSoup(content.text, 'html.parser')\n",
        "\n",
        "test = get_data_from_soup(soup)"
      ],
      "metadata": {
        "colab": {
          "base_uri": "https://localhost:8080/"
        },
        "id": "gjI7cJ7hx5r6",
        "outputId": "9e2b73e9-d0ec-4bc7-ade9-61496515e1a7"
      },
      "execution_count": 71,
      "outputs": [
        {
          "output_type": "stream",
          "name": "stdout",
          "text": [
            "{'title': 'Get emergency accommodation by calling 115', 'text': 'Procedures Logement Get emergency accommodation by calling 115 Get emergency accommodation by calling 115 Updated on il y a 9 mois Share this sheet x2 What is it? 115 is an emergency number to call if you have no accommodation (in the event of eviction, absence or loss of accommodation) or if you are a victim of domestic violence. Everyone can call 115 to be welcomed free of charge in an emergency accommodation centre. 115 is a free number accessible 24 hours a day, every day of the year, everywhere in France. It works even if you no longer have a phone plan (like other emergency numbers: firefighters, SAMU, police, etc.). Please note that places in emergency accommodation centers are limited and the services of 115 are in high demand. It is often necessary to call several times and it is not always possible to find a place. It is advisable to call 115 only in an emergency and only if you have no other solutions (accommodation with a relative, etc.) Before calling 115, if you can, go see the social services of your town hall to find a solution. If you are in danger (violence, etc.) or if you are exposed to the cold, do not hesitate to call 115 directly. x2 How to do it? 1 Dial 115 on your phone Call number 115. Someone will answer you. A simultaneous translation service allows them to respond in all languages. You will be able to have information on: the possibilities of emergency accommodation or day-time stay, meal distribution locations, care structures (for health), the social services of your department. x2 2 Be redirected to appropriate emergency accommodation The 115 takes your contact details and finds out about the places available in your area. In general, the accommodation center that has space will contact you directly. Depending on your situation, your location and the number of places, you can access different types of accommodation: emergency shelters, maternal centers for pregnant women and single mothers, hostels for young workers, homes of migrant workers. In addition, other help may be offered. For example, if you are a victim of violence, an appointment at a specialized reception center may be offered to you in addition to emergency accommodation. x2 3 How to get to the emergency accommodation In general, emergency shelters cover the most important needs: shelter (sleep in warmth) meal (food) hygiene (shower). In some cases, reception takes place day and night; but in other cases only at night. However, certain structures, the \"day centres\", offer services during the day but no accommodation for the night. The duration of the accommodation is variable. The objective is to accompany you towards a more sustainable solution (stable accommodation or care structure, social housing), with social workers. x2 What happens next? Do the DAHO procedure if you cannot find accommodation If no accommodation corresponding to your situation can be offered to you, you can assert the right to enforceable accommodation (DAHO). This procedure makes your accommodation request a priority and therefore gives you a second chance to receive a proposal! Go to this Refugees.info page to find out more. x2 Did you find this sheet useful? Thank the contributors who wrote and translated it for you! 586 thanks Related topics Housing Find accommodation (short-term) Find a place to rest The housing process Top of the page', 'cards': ['What happens next?', ' Do the DAHO procedure if you cannot find accommodation If no accommodation corresponding to your situation can be offered to you, you can assert the right to enforceable accommodation (DAHO). This procedure makes your accommodation request a priority and therefore gives you a second chance to receive a proposal! Go to this Refugees.info page to find out more. x2'], 'text_md': <div class=\"Dispositif_main__LBeic\" dir=\"ltr\"><header class=\"Header_container__IiV_C\"><div><div class=\"Breadcrumb_container__LBJ5W\"><a class=\"Breadcrumb_home__W4SRl\" href=\"/en\" title=\"Accueil\"><span class=\"EVAIcon_icon__AUzDH\"><i style=\"height:16px;line-height:16px\"></i></span></a><span class=\"mx-1 EVAIcon_icon__AUzDH\"><i style=\"height:16px;line-height:16px\"></i></span><a class=\"Breadcrumb_link__6VYOb\" href=\"/en/recherche?search=&amp;sort=date&amp;type=demarche\">Procedures</a><span class=\"mx-1 EVAIcon_icon__AUzDH\"><i style=\"height:16px;line-height:16px\"></i></span><a class=\"Breadcrumb_theme__RHp5R\" href=\"/en/recherche?search=&amp;sort=date&amp;themes=63286a015d31b2c0cad9960c&amp;type=all\" style=\"background-color:#06508C\"><img alt=\"\" data-nimg=\"1\" decoding=\"async\" height=\"12\" loading=\"lazy\" src=\"/images/icon_house.svg\" style=\"color:transparent\" width=\"12\"/><span class=\"ms-1\">Logement</span></a><span class=\"mx-1 EVAIcon_icon__AUzDH\"><i style=\"height:16px;line-height:16px\"></i></span><span class=\"Breadcrumb_current__JlAiV\">Get emergency accommodation by calling 115</span></div></div><div class=\"position-relative\"><h1 class=\"Title_title__CeJaw\"><span class=\"\" data-section=\"titreInformatif\">Get emergency accommodation by calling 115</span></h1><p class=\"fr-badge fr-badge--info fr-badge--sm fr-badge--no-icon\" id=\"fr-badge-:Rq6gt6:\"><i class=\"Badge_icon__THQ0p Badge_small__B2LHZ ri-information-fill me-1\"></i>Updated on il y a 9 mois</p><button class=\"fr-btn fr-btn--tertiary Button_btn__H3qmj Button_small_icon__7BcJA Header_share__zsIvw\" id=\"fr-button-:R1a6gt6:\"><span class=\"me-2 EVAIcon_icon__AUzDH\"><i style=\"height:20px;line-height:20px\"></i></span>Share this sheet</button><div class=\"SectionButtons_container__E5O2Y\"><button class=\"fr-btn fr-btn--tertiary ri-play-circle-line Button_btn__H3qmj SectionButtons_btn__2TAxB\" id=\"fr-button-:Rjq6gt6:\" title=\"Listen\"></button><div class=\"SectionButtons_tts_buttons__KyTpi\"><button class=\"fr-btn fr-btn--tertiary Button_btn__H3qmj Button_small_icon__7BcJA SectionButtons_btn__2TAxB SectionButtons_speed__vMqpd mt-1\" id=\"fr-button-:R33q6gt6:\" tabindex=\"-1\">x2</button><button class=\"fr-btn Button_btn__H3qmj SectionButtons_btn__2TAxB SectionButtons_close__vyWef mt-1\" id=\"fr-button-:R53q6gt6:\" tabindex=\"-1\" title=\"Close\"><span class=\"EVAIcon_icon__AUzDH\"><i style=\"height:20px;line-height:20px\"></i></span></button></div><button class=\"fr-btn fr-btn--tertiary Button_btn__H3qmj SectionButtons_btn__2TAxB mt-2\" id=\"section_titreInformatif\" title=\"React\"><span class=\"EVAIcon_icon__AUzDH\"><i style=\"height:20px;line-height:20px\"></i></span></button></div></div></header><section class=\"Section_container__RGvpX\" id=\"anchor-what\"><p class=\"SectionTitle_title__zx30z\" style=\"color:#06508C\">What is it?</p><div class=\"RichText_content__rrRCm\"><div class=\"Text_content__N_cQf\" data-section=\"what\"><p dir=\"ltr\"><span>115 is an emergency number to call if you have no accommodation (in the event of eviction, absence or loss of accommodation) or if you are a victim of domestic violence.</span></p><p dir=\"ltr\"><span>Everyone can call 115 to be welcomed </span><b><strong class=\"rtri-bold\">free</strong></b><span> of charge in an emergency accommodation centre.</span></p><div class=\"callout callout--important\" data-callout=\"[&quot;']important[&quot;']/\" data-title=\"Important\"><span>115 is a </span><b><strong class=\"rtri-bold\">free</strong></b><span> number </span><b><strong class=\"rtri-bold\">accessible 24 hours a day, every day</strong></b><span> of the year, everywhere in France. It works even if you no longer have a phone plan (like other emergency numbers: firefighters, SAMU, police, etc.).</span></div><p dir=\"ltr\"><span>Please note that places in emergency accommodation centers are </span><b><strong class=\"rtri-bold\">limited</strong></b><span> and the services of 115 are in high demand. It is often necessary to call several times and it is not always possible to find a place. It is advisable to call 115 only in an </span><b><strong class=\"rtri-bold\">emergency</strong></b><span> and only if you have no other solutions (accommodation with a relative, etc.)</span></p><p dir=\"ltr\"><span>Before calling 115, if you can, go see the social services of your town hall to find a solution.</span></p><p dir=\"ltr\"><b><strong class=\"rtri-bold\">If you are in danger (violence, etc.) or if you are exposed to the cold, do not hesitate to call 115 directly.</strong></b></p></div></div><div class=\"SectionButtons_container__E5O2Y\"><button class=\"fr-btn fr-btn--tertiary ri-play-circle-line Button_btn__H3qmj SectionButtons_btn__2TAxB\" id=\"fr-button-:Rj9agt6:\" title=\"Listen\"></button><div class=\"SectionButtons_tts_buttons__KyTpi\"><button class=\"fr-btn fr-btn--tertiary Button_btn__H3qmj Button_small_icon__7BcJA SectionButtons_btn__2TAxB SectionButtons_speed__vMqpd mt-1\" id=\"fr-button-:R339agt6:\" tabindex=\"-1\">x2</button><button class=\"fr-btn Button_btn__H3qmj SectionButtons_btn__2TAxB SectionButtons_close__vyWef mt-1\" id=\"fr-button-:R539agt6:\" tabindex=\"-1\" title=\"Close\"><span class=\"EVAIcon_icon__AUzDH\"><i style=\"height:20px;line-height:20px\"></i></span></button></div><button class=\"fr-btn fr-btn--tertiary Button_btn__H3qmj SectionButtons_btn__2TAxB mt-2\" id=\"section_what\" title=\"React\"><span class=\"EVAIcon_icon__AUzDH\"><i style=\"height:20px;line-height:20px\"></i></span></button></div></section><section class=\"Section_container__RGvpX\" id=\"anchor-how\"><p class=\"SectionTitle_title__zx30z\" style=\"color:#06508C\">How to do it?</p><div class=\"Accordions_container__NC07i\"><div class=\"Accordions_accordion___LNFM\"><button class=\"sc-62adbba0-0 gpnVPm Accordions_btn__5_2aA btn btn-secondary\" type=\"button\"><h2 class=\"Accordions_title__pi3bt\" style=\"color:#06508C\"><span class=\"AccordionBadge_badge__zqdaO\" style=\"background-color:#06508C\">1</span><span class=\"\" data-section=\"how.4f3e0eb5-a9a6-487b-b508-d74d7e792f0c.title\">Dial 115 on your phone</span></h2><span class=\"Accordions_icon__3hQLB EVAIcon_icon__AUzDH\"><i style=\"height:32px;line-height:32px\"></i></span></button><div class=\"collapse\"><div class=\"Accordions_content__66fEX\"><div class=\"Text_content__N_cQf\" data-section=\"how.4f3e0eb5-a9a6-487b-b508-d74d7e792f0c.text\"><p dir=\"ltr\"><span>Call number 115.</span></p><p dir=\"ltr\"><span>Someone will answer you.</span></p><div class=\"callout callout--important\" data-callout=\"[&quot;']important[&quot;']/\" data-title=\"Important\"><span>A simultaneous translation service allows them to respond in all languages.</span></div><p dir=\"ltr\"><span>You will be able to have information on:</span></p><ul><li value=\"1\"><span>the possibilities of emergency accommodation or day-time stay,</span></li><li value=\"2\"><span>meal distribution locations,</span></li><li value=\"3\"><span>care structures (for health),</span></li><li value=\"4\"><span>the social services of your department.</span></li></ul></div></div></div><div class=\"SectionButtons_container__E5O2Y\"><button class=\"fr-btn fr-btn--tertiary ri-play-circle-line Button_btn__H3qmj SectionButtons_btn__2TAxB\" id=\"fr-button-:R2eqagt6:\" title=\"Listen\"></button><div class=\"SectionButtons_tts_buttons__KyTpi\"><button class=\"fr-btn fr-btn--tertiary Button_btn__H3qmj Button_small_icon__7BcJA SectionButtons_btn__2TAxB SectionButtons_speed__vMqpd mt-1\" id=\"fr-button-:Rceqagt6:\" tabindex=\"-1\">x2</button><button class=\"fr-btn Button_btn__H3qmj SectionButtons_btn__2TAxB SectionButtons_close__vyWef mt-1\" id=\"fr-button-:Rkeqagt6:\" tabindex=\"-1\" title=\"Close\"><span class=\"EVAIcon_icon__AUzDH\"><i style=\"height:20px;line-height:20px\"></i></span></button></div><button class=\"fr-btn fr-btn--tertiary Button_btn__H3qmj SectionButtons_btn__2TAxB mt-2\" id=\"section_how_4f3e0eb5-a9a6-487b-b508-d74d7e792f0c\" title=\"React\"><span class=\"EVAIcon_icon__AUzDH\"><i style=\"height:20px;line-height:20px\"></i></span></button></div></div><div class=\"Accordions_accordion___LNFM\"><button class=\"sc-62adbba0-0 gpnVPm Accordions_btn__5_2aA btn btn-secondary\" type=\"button\"><h2 class=\"Accordions_title__pi3bt\" style=\"color:#06508C\"><span class=\"AccordionBadge_badge__zqdaO\" style=\"background-color:#06508C\">2</span><span class=\"\" data-section=\"how.037032ef-38a7-42d3-8fdf-886d9504ebc9.title\">Be redirected to appropriate emergency accommodation </span></h2><span class=\"Accordions_icon__3hQLB EVAIcon_icon__AUzDH\"><i style=\"height:32px;line-height:32px\"></i></span></button><div class=\"collapse\"><div class=\"Accordions_content__66fEX\"><div class=\"Text_content__N_cQf\" data-section=\"how.037032ef-38a7-42d3-8fdf-886d9504ebc9.text\"><p>The 115 takes your contact details and finds out about the places available in your area. In general, the accommodation center that has space will contact you directly.</p><p> Depending on your situation, your location and the number of places, you can access different types of accommodation:</p><ul><li> emergency shelters,</li><li> maternal centers for pregnant women and single mothers,</li><li> hostels for young workers,</li><li> homes of migrant workers.</li></ul><p> In addition, other help may be offered.</p><p>For example, if you are a victim of violence, an appointment at a specialized reception center may be offered to you in addition to emergency accommodation.</p></div></div></div><div class=\"SectionButtons_container__E5O2Y\"><button class=\"fr-btn fr-btn--tertiary ri-play-circle-line Button_btn__H3qmj SectionButtons_btn__2TAxB\" id=\"fr-button-:R2faagt6:\" title=\"Listen\"></button><div class=\"SectionButtons_tts_buttons__KyTpi\"><button class=\"fr-btn fr-btn--tertiary Button_btn__H3qmj Button_small_icon__7BcJA SectionButtons_btn__2TAxB SectionButtons_speed__vMqpd mt-1\" id=\"fr-button-:Rcfaagt6:\" tabindex=\"-1\">x2</button><button class=\"fr-btn Button_btn__H3qmj SectionButtons_btn__2TAxB SectionButtons_close__vyWef mt-1\" id=\"fr-button-:Rkfaagt6:\" tabindex=\"-1\" title=\"Close\"><span class=\"EVAIcon_icon__AUzDH\"><i style=\"height:20px;line-height:20px\"></i></span></button></div><button class=\"fr-btn fr-btn--tertiary Button_btn__H3qmj SectionButtons_btn__2TAxB mt-2\" id=\"section_how_037032ef-38a7-42d3-8fdf-886d9504ebc9\" title=\"React\"><span class=\"EVAIcon_icon__AUzDH\"><i style=\"height:20px;line-height:20px\"></i></span></button></div></div><div class=\"Accordions_accordion___LNFM\"><button class=\"sc-62adbba0-0 gpnVPm Accordions_btn__5_2aA btn btn-secondary\" type=\"button\"><h2 class=\"Accordions_title__pi3bt\" style=\"color:#06508C\"><span class=\"AccordionBadge_badge__zqdaO\" style=\"background-color:#06508C\">3</span><span class=\"\" data-section=\"how.de442c6e-6a22-4a44-95b4-b86783e3be7a.title\">How to get to the emergency accommodation</span></h2><span class=\"Accordions_icon__3hQLB EVAIcon_icon__AUzDH\"><i style=\"height:32px;line-height:32px\"></i></span></button><div class=\"collapse\"><div class=\"Accordions_content__66fEX\"><div class=\"Text_content__N_cQf\" data-section=\"how.de442c6e-6a22-4a44-95b4-b86783e3be7a.text\"><p dir=\"ltr\"><span>In general, emergency shelters cover the most important needs:</span></p><ul><li value=\"1\"><span>shelter (sleep in warmth)</span></li><li value=\"2\"><span>meal (food)</span></li><li value=\"3\"><span>hygiene (shower).</span></li></ul><div class=\"callout callout--important\" data-callout=\"[&quot;']important[&quot;']/\" data-title=\"Important\"><span>In some cases, reception takes place day and night; but in other cases only at night. However, certain structures, the \"day centres\", offer services during the day but no accommodation for the night.</span></div><p dir=\"ltr\"><span>The duration of the accommodation is variable. The objective is to accompany you towards a more sustainable solution (stable accommodation or care structure, social housing), with social workers.</span></p></div></div></div><div class=\"SectionButtons_container__E5O2Y\"><button class=\"fr-btn fr-btn--tertiary ri-play-circle-line Button_btn__H3qmj SectionButtons_btn__2TAxB\" id=\"fr-button-:R2fqagt6:\" title=\"Listen\"></button><div class=\"SectionButtons_tts_buttons__KyTpi\"><button class=\"fr-btn fr-btn--tertiary Button_btn__H3qmj Button_small_icon__7BcJA SectionButtons_btn__2TAxB SectionButtons_speed__vMqpd mt-1\" id=\"fr-button-:Rcfqagt6:\" tabindex=\"-1\">x2</button><button class=\"fr-btn Button_btn__H3qmj SectionButtons_btn__2TAxB SectionButtons_close__vyWef mt-1\" id=\"fr-button-:Rkfqagt6:\" tabindex=\"-1\" title=\"Close\"><span class=\"EVAIcon_icon__AUzDH\"><i style=\"height:20px;line-height:20px\"></i></span></button></div><button class=\"fr-btn fr-btn--tertiary Button_btn__H3qmj SectionButtons_btn__2TAxB mt-2\" id=\"section_how_de442c6e-6a22-4a44-95b4-b86783e3be7a\" title=\"React\"><span class=\"EVAIcon_icon__AUzDH\"><i style=\"height:20px;line-height:20px\"></i></span></button></div></div></div></section><section class=\"Section_container__RGvpX\" id=\"anchor-next\"><p class=\"SectionTitle_title__zx30z\" style=\"color:#06508C\">What happens next?</p><div class=\"Accordions_container__NC07i\"><div class=\"Accordions_accordion___LNFM\"><button class=\"sc-62adbba0-0 gpnVPm Accordions_btn__5_2aA btn btn-secondary\" type=\"button\"><h2 class=\"Accordions_title__pi3bt\" style=\"color:#06508C\"><span class=\"\" data-section=\"next.85820704-dedd-452c-9ba8-cd11b81e65b5.title\">Do the DAHO procedure if you cannot find accommodation</span></h2><span class=\"Accordions_icon__3hQLB EVAIcon_icon__AUzDH\"><i style=\"height:32px;line-height:32px\"></i></span></button><div class=\"collapse\"><div class=\"Accordions_content__66fEX\"><div class=\"Text_content__N_cQf\" data-section=\"next.85820704-dedd-452c-9ba8-cd11b81e65b5.text\"><p>If no accommodation corresponding to your situation can be offered to you, you can assert <strong>the right to enforceable accommodation (DAHO).</strong></p><p> This procedure makes your accommodation request a <strong>priority</strong> and therefore gives you a second chance to receive a proposal! <a class=\"edited-btn\" href=\"https://www.refugies.info/demarche/6123a82c6bf6bc00148a5176\" rel=\"noopener noreferrer\" target=\"_blank\">Go to this Refugees.info page to find out more.</a></p></div></div></div><div class=\"SectionButtons_container__E5O2Y\"><button class=\"fr-btn fr-btn--tertiary ri-play-circle-line Button_btn__H3qmj SectionButtons_btn__2TAxB\" id=\"fr-button-:R17ragt6:\" title=\"Listen\"></button><div class=\"SectionButtons_tts_buttons__KyTpi\"><button class=\"fr-btn fr-btn--tertiary Button_btn__H3qmj Button_small_icon__7BcJA SectionButtons_btn__2TAxB SectionButtons_speed__vMqpd mt-1\" id=\"fr-button-:R67ragt6:\" tabindex=\"-1\">x2</button><button class=\"fr-btn Button_btn__H3qmj SectionButtons_btn__2TAxB SectionButtons_close__vyWef mt-1\" id=\"fr-button-:Ra7ragt6:\" tabindex=\"-1\" title=\"Close\"><span class=\"EVAIcon_icon__AUzDH\"><i style=\"height:20px;line-height:20px\"></i></span></button></div><button class=\"fr-btn fr-btn--tertiary Button_btn__H3qmj SectionButtons_btn__2TAxB mt-2\" id=\"section_next_85820704-dedd-452c-9ba8-cd11b81e65b5\" title=\"React\"><span class=\"EVAIcon_icon__AUzDH\"><i style=\"height:20px;line-height:20px\"></i></span></button></div></div></div></section><div class=\"Feedback_container__WukY8\"><img alt=\"\" class=\"Feedback_illu__98daT\" data-nimg=\"1\" decoding=\"async\" height=\"204\" loading=\"lazy\" src=\"/_next/static/media/feedback-illu.39dfa114.svg\" style=\"color:transparent\" width=\"287\"/><div class=\"Feedback_content__bmDTh\"><p class=\"Feedback_title__79IEA\">Did you find this sheet useful?</p><p>Thank the contributors who wrote and translated it for you!</p><button class=\"fr-btn fr-btn--secondary Button_btn__H3qmj Button_small_icon__7BcJA Feedback_btn__UUt8T me-2\" id=\"fr-button-:R3higt6:\"><img alt=\"\" class=\"me-2\" data-nimg=\"1\" decoding=\"async\" height=\"24\" loading=\"lazy\" src=\"/_next/static/media/thumb-up.4b91a521.svg\" style=\"color:transparent\" width=\"24\"/>586 thanks</button><button class=\"fr-btn fr-btn--secondary Button_btn__H3qmj Button_small_icon__7BcJA Feedback_btn__UUt8T\" id=\"fr-button-:R4higt6:\" title=\"Help\"><img alt=\"\" data-nimg=\"1\" decoding=\"async\" height=\"24\" loading=\"lazy\" src=\"/_next/static/media/thumb-down.60676db5.svg\" style=\"color:transparent\" width=\"24\"/></button></div></div><span class=\"Dispositif_divider__uE9j8\"></span><div class=\"LinkedThemes_container__Y_pmi\"><p class=\"LinkedThemes_title__1lrot\">Related topics</p><div class=\"LinkedThemes_row__tiuka\"><a class=\"sc-400a895d-1 jsfVID SearchThemeButton_btn__dvENr SearchThemeButton_sm__hL3A9 LinkedThemes_btn__IOV9N\" href=\"/en/recherche?search=&amp;sort=date&amp;themes=63286a015d31b2c0cad9960c&amp;type=all\"><span class=\"me-4\">Housing</span><span class=\"SearchThemeButton_image__FKMaJ\"><span class=\"SearchThemeButton_image_inner__ONNhR\"><img alt=\"\" data-nimg=\"1\" decoding=\"async\" height=\"41\" loading=\"lazy\" src=\"/images/app/logement.svg\" style=\"color:transparent\" width=\"32\"/></span></span></a><a class=\"sc-76e3f732-0 dBIFIX LinkedThemes_btn__IOV9N LinkedThemes_need__zk7CZ\" href=\"/en/recherche?needs=613721a409c5190dfa70d073&amp;search=&amp;sort=date&amp;type=all\">Find accommodation (short-term)<img alt=\"\" class=\"ms-3\" data-nimg=\"1\" decoding=\"async\" height=\"32\" loading=\"lazy\" src=\"https://res.cloudinary.com/dlmqnnhp6/image/upload/v1668719881/pictures/dvjmltyhrlafm73xxkti.svg\" style=\"color:transparent\" width=\"32\"/></a><a class=\"sc-76e3f732-0 dBIFIX LinkedThemes_btn__IOV9N LinkedThemes_need__zk7CZ\" href=\"/en/recherche?needs=613721a409c5190dfa70d074&amp;search=&amp;sort=date&amp;type=all\">Find a place to rest<img alt=\"\" class=\"ms-3\" data-nimg=\"1\" decoding=\"async\" height=\"32\" loading=\"lazy\" src=\"https://res.cloudinary.com/dlmqnnhp6/image/upload/v1668719902/pictures/gr1qclpjveolgshpkt6l.svg\" style=\"color:transparent\" width=\"32\"/></a><a class=\"sc-76e3f732-0 dBIFIX LinkedThemes_btn__IOV9N LinkedThemes_need__zk7CZ\" href=\"/en/recherche?needs=61faa899df999700139acc27&amp;search=&amp;sort=date&amp;type=all\">The housing process<img alt=\"\" class=\"ms-3\" data-nimg=\"1\" decoding=\"async\" height=\"32\" loading=\"lazy\" src=\"https://res.cloudinary.com/dlmqnnhp6/image/upload/v1668719835/pictures/m0uxuhgkwggwqea2hhjm.svg\" style=\"color:transparent\" width=\"32\"/></a></div></div><a class=\"fr-link FRLink_link__iHEn_ Dispositif_top__KbuLS\" href=\"/en/procedure/62503d59664c115fa5121c6a#top\"><span class=\"me-2 EVAIcon_icon__AUzDH\"><i style=\"height:20px;line-height:20px\"></i></span>Top of the page</a><span class=\"Dispositif_divider__uE9j8\"></span></div>, 'urls': ['/en', '/en/recherche?search=&sort=date&type=demarche', '/en/recherche?search=&sort=date&themes=63286a015d31b2c0cad9960c&type=all', 'https://www.refugies.info/demarche/6123a82c6bf6bc00148a5176', '/en/recherche?search=&sort=date&themes=63286a015d31b2c0cad9960c&type=all', '/en/recherche?needs=613721a409c5190dfa70d073&search=&sort=date&type=all', '/en/recherche?needs=613721a409c5190dfa70d074&search=&sort=date&type=all', '/en/recherche?needs=61faa899df999700139acc27&search=&sort=date&type=all', '/en/procedure/62503d59664c115fa5121c6a#top']}\n"
          ]
        }
      ]
    },
    {
      "cell_type": "code",
      "source": [
        "test['urls']"
      ],
      "metadata": {
        "colab": {
          "base_uri": "https://localhost:8080/"
        },
        "id": "-q552Y3iyO7n",
        "outputId": "0f4a8ff5-ba9c-4e86-9bbd-59bc8dc33cad"
      },
      "execution_count": 84,
      "outputs": [
        {
          "output_type": "execute_result",
          "data": {
            "text/plain": [
              "['/en',\n",
              " '/en/recherche?search=&sort=date&type=demarche',\n",
              " '/en/recherche?search=&sort=date&themes=63286a015d31b2c0cad9960c&type=all',\n",
              " 'https://www.refugies.info/demarche/6123a82c6bf6bc00148a5176',\n",
              " '/en/recherche?search=&sort=date&themes=63286a015d31b2c0cad9960c&type=all',\n",
              " '/en/recherche?needs=613721a409c5190dfa70d073&search=&sort=date&type=all',\n",
              " '/en/recherche?needs=613721a409c5190dfa70d074&search=&sort=date&type=all',\n",
              " '/en/recherche?needs=61faa899df999700139acc27&search=&sort=date&type=all',\n",
              " '/en/procedure/62503d59664c115fa5121c6a#top']"
            ]
          },
          "metadata": {},
          "execution_count": 84
        }
      ]
    },
    {
      "cell_type": "markdown",
      "source": [
        "# https://qx1.org/"
      ],
      "metadata": {
        "id": "sfEycBiFzUY1"
      }
    },
    {
      "cell_type": "code",
      "source": [],
      "metadata": {
        "id": "wHSWnh6rzjBE"
      },
      "execution_count": null,
      "outputs": []
    }
  ]
}